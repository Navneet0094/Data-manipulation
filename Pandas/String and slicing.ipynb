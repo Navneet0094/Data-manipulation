{
 "cells": [
  {
   "cell_type": "code",
   "execution_count": 1,
   "id": "66b31385",
   "metadata": {},
   "outputs": [],
   "source": [
    "x=3.3"
   ]
  },
  {
   "cell_type": "code",
   "execution_count": 2,
   "id": "b10c4b9e",
   "metadata": {},
   "outputs": [
    {
     "data": {
      "text/plain": [
       "float"
      ]
     },
     "execution_count": 2,
     "metadata": {},
     "output_type": "execute_result"
    }
   ],
   "source": [
    "type(x)"
   ]
  },
  {
   "cell_type": "markdown",
   "id": "30a3ade1",
   "metadata": {},
   "source": [
    "# this is heading"
   ]
  },
  {
   "cell_type": "markdown",
   "id": "b4e2633c",
   "metadata": {},
   "source": [
    "# this is heading"
   ]
  },
  {
   "cell_type": "code",
   "execution_count": 7,
   "id": "4667efd1",
   "metadata": {},
   "outputs": [
    {
     "data": {
      "text/plain": [
       "dict"
      ]
     },
     "execution_count": 7,
     "metadata": {},
     "output_type": "execute_result"
    }
   ],
   "source": [
    "x={12:\"aman\"}\n",
    "type(x)"
   ]
  },
  {
   "cell_type": "code",
   "execution_count": 10,
   "id": "37411b3c",
   "metadata": {},
   "outputs": [
    {
     "data": {
      "text/plain": [
       "str"
      ]
     },
     "execution_count": 10,
     "metadata": {},
     "output_type": "execute_result"
    }
   ],
   "source": [
    "z=\"hello world\"\n",
    "type(z)"
   ]
  },
  {
   "cell_type": "code",
   "execution_count": 12,
   "id": "2b27b29d",
   "metadata": {},
   "outputs": [
    {
     "data": {
      "text/plain": [
       "'hello world'"
      ]
     },
     "execution_count": 12,
     "metadata": {},
     "output_type": "execute_result"
    }
   ],
   "source": [
    "z"
   ]
  },
  {
   "cell_type": "code",
   "execution_count": 18,
   "id": "85a05d4d",
   "metadata": {},
   "outputs": [
    {
     "name": "stdout",
     "output_type": "stream",
     "text": [
      "hi \n",
      "hello\n"
     ]
    }
   ],
   "source": [
    "print('''hi \n",
    "hello''')"
   ]
  },
  {
   "cell_type": "code",
   "execution_count": null,
   "id": "cee892f8",
   "metadata": {},
   "outputs": [],
   "source": [
    "X=\"hi\""
   ]
  },
  {
   "cell_type": "code",
   "execution_count": 20,
   "id": "654b4a67",
   "metadata": {},
   "outputs": [
    {
     "ename": "NameError",
     "evalue": "name 'X' is not defined",
     "output_type": "error",
     "traceback": [
      "\u001b[1;31m---------------------------------------------------------------------------\u001b[0m",
      "\u001b[1;31mNameError\u001b[0m                                 Traceback (most recent call last)",
      "Cell \u001b[1;32mIn[20], line 1\u001b[0m\n\u001b[1;32m----> 1\u001b[0m \u001b[38;5;28mtype\u001b[39m(X)\n",
      "\u001b[1;31mNameError\u001b[0m: name 'X' is not defined"
     ]
    }
   ],
   "source": [
    "type(X)"
   ]
  },
  {
   "cell_type": "code",
   "execution_count": 21,
   "id": "dfff9660",
   "metadata": {},
   "outputs": [
    {
     "name": "stdout",
     "output_type": "stream",
     "text": [
      "Let's learn \"python \"\n"
     ]
    }
   ],
   "source": [
    "print('''Let's learn \"python \"''')"
   ]
  },
  {
   "cell_type": "code",
   "execution_count": 23,
   "id": "5696c288",
   "metadata": {},
   "outputs": [
    {
     "name": "stdout",
     "output_type": "stream",
     "text": [
      "Let's learn \"python\"\n"
     ]
    }
   ],
   "source": [
    "print('Let\\'s learn \"python\"')"
   ]
  },
  {
   "cell_type": "code",
   "execution_count": 25,
   "id": "4b23f550",
   "metadata": {},
   "outputs": [
    {
     "name": "stdout",
     "output_type": "stream",
     "text": [
      "\"let's learn \"python\"\"\n"
     ]
    }
   ],
   "source": [
    "print('\"let\\'s learn \"python\"\"')"
   ]
  },
  {
   "cell_type": "code",
   "execution_count": 26,
   "id": "edcd0cf4",
   "metadata": {},
   "outputs": [],
   "source": [
    "x=\"hello\""
   ]
  },
  {
   "cell_type": "code",
   "execution_count": 27,
   "id": "9a360990",
   "metadata": {},
   "outputs": [
    {
     "data": {
      "text/plain": [
       "'o'"
      ]
     },
     "execution_count": 27,
     "metadata": {},
     "output_type": "execute_result"
    }
   ],
   "source": [
    "x[4]"
   ]
  },
  {
   "cell_type": "code",
   "execution_count": 31,
   "id": "e09511d3",
   "metadata": {},
   "outputs": [
    {
     "data": {
      "text/plain": [
       "'hello'"
      ]
     },
     "execution_count": 31,
     "metadata": {},
     "output_type": "execute_result"
    }
   ],
   "source": [
    "x[0:5]"
   ]
  },
  {
   "cell_type": "code",
   "execution_count": 32,
   "id": "3ca9b5d5",
   "metadata": {},
   "outputs": [],
   "source": [
    "y=\"pw skills\""
   ]
  },
  {
   "cell_type": "code",
   "execution_count": 37,
   "id": "bfcf2d80",
   "metadata": {},
   "outputs": [
    {
     "data": {
      "text/plain": [
       "'skills'"
      ]
     },
     "execution_count": 37,
     "metadata": {},
     "output_type": "execute_result"
    }
   ],
   "source": [
    "y[3:]"
   ]
  },
  {
   "cell_type": "code",
   "execution_count": 7,
   "id": "647231f5",
   "metadata": {},
   "outputs": [
    {
     "ename": "SyntaxError",
     "evalue": "invalid syntax (1655288450.py, line 5)",
     "output_type": "error",
     "traceback": [
      "\u001b[1;36m  Cell \u001b[1;32mIn[7], line 5\u001b[1;36m\u001b[0m\n\u001b[1;33m    print(\"my name is \", name, \"my roll numver is \" ,r,print(\"my name is \",name ,\"my roll numver is \" , r);\u001b[0m\n\u001b[1;37m                                                                                                          ^\u001b[0m\n\u001b[1;31mSyntaxError\u001b[0m\u001b[1;31m:\u001b[0m invalid syntax\n"
     ]
    }
   ],
   "source": [
    "name = \"navneet\"\n",
    "r=67\n",
    "p=93\n",
    "s= True\n",
    "print(\"my name is \", name, \"my roll numver is \" ,r,print(\"my name is \",name ,\"my roll numver is \" , r)"
   ]
  }
 ],
 "metadata": {
  "kernelspec": {
   "display_name": "Python 3 (ipykernel)",
   "language": "python",
   "name": "python3"
  },
  "language_info": {
   "codemirror_mode": {
    "name": "ipython",
    "version": 3
   },
   "file_extension": ".py",
   "mimetype": "text/x-python",
   "name": "python",
   "nbconvert_exporter": "python",
   "pygments_lexer": "ipython3",
   "version": "3.11.5"
  }
 },
 "nbformat": 4,
 "nbformat_minor": 5
}
