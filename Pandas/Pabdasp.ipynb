{
 "cells": [
  {
   "cell_type": "code",
   "execution_count": 2,
   "id": "956db93b",
   "metadata": {},
   "outputs": [],
   "source": [
    "d={\"name\"  : \"Navneet\", \"work\" : \"vella\", \"aayu\": 15}\n"
   ]
  },
  {
   "cell_type": "code",
   "execution_count": 5,
   "id": "06a56ef3",
   "metadata": {},
   "outputs": [
    {
     "data": {
      "text/plain": [
       "dict"
      ]
     },
     "execution_count": 5,
     "metadata": {},
     "output_type": "execute_result"
    }
   ],
   "source": [
    "type(d)"
   ]
  },
  {
   "cell_type": "code",
   "execution_count": 23,
   "id": "33e73f0f",
   "metadata": {},
   "outputs": [
    {
     "ename": "SyntaxError",
     "evalue": "invalid syntax (1971410804.py, line 1)",
     "output_type": "error",
     "traceback": [
      "\u001b[1;36m  Cell \u001b[1;32mIn[23], line 1\u001b[1;36m\u001b[0m\n\u001b[1;33m    d.del(\"vella\")\u001b[0m\n\u001b[1;37m      ^\u001b[0m\n\u001b[1;31mSyntaxError\u001b[0m\u001b[1;31m:\u001b[0m invalid syntax\n"
     ]
    }
   ],
   "source": []
  },
  {
   "cell_type": "code",
   "execution_count": 27,
   "id": "7539caee",
   "metadata": {},
   "outputs": [
    {
     "name": "stdout",
     "output_type": "stream",
     "text": [
      "enter num. :68\n",
      "hurrah! i passed well\n"
     ]
    }
   ],
   "source": [
    "n= int(input(\"enter num. :\"))\n",
    "if n < 50:\n",
    "    print(\"hurrah! i passed\")\n",
    "elif n < 70:\n",
    "    print(\"hurrah! i passed well\")\n",
    "elif n < 90:\n",
    "    print(\"hurrah! i scored very well\")\n",
    "else :\n",
    "    print(\" i am not passed\")"
   ]
  },
  {
   "cell_type": "code",
   "execution_count": 30,
   "id": "224f780b",
   "metadata": {},
   "outputs": [
    {
     "name": "stdout",
     "output_type": "stream",
     "text": [
      "Input coursework1 name english\n",
      "input score_theory1 40\n",
      "input score_practical1 40\n",
      "Input coursework2 name science\n",
      "input score_theory2 40\n",
      "input score_practical2 40\n",
      "Sum of theory and practical in english  80\n",
      "Sum of theory and practical in Science 80\n"
     ]
    }
   ],
   "source": [
    "coursework1 = input(\"Input coursework1 name \")\n",
    "score_theory1 = int(input(\"input score_theory1 \"))\n",
    "score_practical1 = int(input(\"input score_practical1 \"))\n",
    "coursework2 = input(\"Input coursework2 name \")\n",
    "score_theory2 = int(input(\"input score_theory2 \"))\n",
    "score_practical2 = int(input(\"input score_practical2 \"))\n",
    "if(coursework1 == \"English\" or coursework1 == \"english\"):\n",
    "    if(score_theory1 >70):\n",
    "        print(\"Invalid input\")\n",
    "    elif(score_practical1>70):\n",
    "        print(\"Invalid input\")\n",
    "    else:\n",
    "        print(\"Sum of theory and practical in english \",score_theory1+score_practical1)\n",
    "if(coursework2 == \"Science\" or coursework2 == \"science\"):\n",
    "    if(score_theory2 >70):\n",
    "        print(\"Invalid input\")\n",
    "    elif(score_practical2>70):\n",
    "        print(\"Invalid input\")\n",
    "    else:\n",
    "        print(\"Sum of theory and practical in Science\",score_theory2+score_practical2)\n",
    "else:\n",
    "    print(\"coursework not recognized\")"
   ]
  },
  {
   "cell_type": "code",
   "execution_count": null,
   "id": "47f5297b",
   "metadata": {},
   "outputs": [],
   "source": [
    "s = input(\"enter a string to start \")\n",
    "course = input(\"enter a course name \")\n",
    "service = input(\"enter a service name \")\n",
    "if s == \"pwskills\":\n",
    "    if course == \"DSA\":\n",
    "        print(\"yes its available under pwskills and in multiple mode for job prepratoin and core concept \")\n",
    "    elif course == \"Blockchain\":\n",
    "        print(\"this is not aviable as of now , kindly raise your demand and we will fulfil in 60 days \")\n",
    "    elif course == \"FSDS\":\n",
    "        print(\"yes its availble , you can start learning \")\n",
    "    else :\n",
    "        print(\"this course is not availble kindly raise your demand \")\n",
    "elif s  == \"pwskillsservice\":\n",
    "    if service == \"courserequest\":\n",
    "        print(\"*NOTE: Dear Learner, you can raise demand related to any new course, and we will fulfil your need in the next 60 days.\")\n",
    "    elif service == \"module\" :\n",
    "        print(\"*NOTE: Dear Learner, you can raise demand related to any new course module, and we will fulfil your need in the next 30 days.\")\n",
    "    elif service == \"doubt\":\n",
    "        print(\"*NOTE: Dear Learner, you can raise demand related to any doubt clearing, and we will fulfil your need in the next 24 hours.\")\n",
    "    elif service == \"workwithus\":\n",
    "        print(\"*NOTE: Dear Learner, you can raise the demand to work with our team; our HR will evaluate and get back to you in 24 hours.\")\n",
    "    else :\n",
    "        print(\"kindly provide us your feedback and we will fulfil\")\n",
    "else :\n",
    "    print(\"kindly connect with our team \")"
   ]
  }
 ],
 "metadata": {
  "kernelspec": {
   "display_name": "Python 3 (ipykernel)",
   "language": "python",
   "name": "python3"
  },
  "language_info": {
   "codemirror_mode": {
    "name": "ipython",
    "version": 3
   },
   "file_extension": ".py",
   "mimetype": "text/x-python",
   "name": "python",
   "nbconvert_exporter": "python",
   "pygments_lexer": "ipython3",
   "version": "3.11.5"
  }
 },
 "nbformat": 4,
 "nbformat_minor": 5
}
